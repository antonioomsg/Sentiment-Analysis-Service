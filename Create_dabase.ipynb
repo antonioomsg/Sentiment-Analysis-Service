{
 "cells": [
  {
   "cell_type": "code",
   "execution_count": 91,
   "metadata": {},
   "outputs": [],
   "source": [
    "from pymongo import MongoClient\n",
    "import re\n",
    "import pandas as pd\n",
    "import pymongo\n",
    "from src.check import *\n",
    "from src.create_new import *\n",
    "import requests"
   ]
  },
  {
   "cell_type": "code",
   "execution_count": 92,
   "metadata": {},
   "outputs": [],
   "source": [
    "client = MongoClient()"
   ]
  },
  {
   "cell_type": "code",
   "execution_count": 93,
   "metadata": {},
   "outputs": [],
   "source": [
    "antonio_api = client.get_database(\"Antoniopepiapi\") "
   ]
  },
  {
   "cell_type": "code",
   "execution_count": 94,
   "metadata": {},
   "outputs": [],
   "source": [
    "presentadores = [{\"name\":\"Pablo Motos\",\"mensaje\":\"can I present it? So, you will have more rhythm ...\"},\n",
    "              {\"name\":\"Xavier Sarda\",\"mensaje\":\"Hi guys, on Sunday October 4, I will premiere a program on Discovery Max. Are you coming?\"},\n",
    "              {\"name\":\"Ana Rosa\",\"mensaje\":\"I can't, but don't worry, I send Joaquin Prat, who does everything I don't want to do.\"},\n",
    "              {\"name\":\"Joaquín Prat\",\"mensaje\":\"Let's see if Maxim Huerta returns ...\"},\n",
    "              {\"name\":\"Mercedes Mila\",\"mensaje\":\"I would love to go, but you catch me in happiness, that I have cystitis.\"},\n",
    "              {\"name\":\"María Teresa Campos\",\"mensaje\":\"I have a little rice, to move the mustache ...\"},\n",
    "              {\"name\":\"Buenafuente\",\"mensaje\":\"Ok! If there is rice, sign me up!\"},\n",
    "              {\"name\":\"Risto Mejide\",\"mensaje\":\"Will there be a piñata? My girlfriend loves them!\"},\n",
    "              {\"name\":\"Jesús Vázquez\",\"mensaje\":\"I can't, I am recording the Jazztel ad.\"},\n",
    "              {\"name\":\"Paula Vázquez\",\"mensaje\":\"Well come on! See you there! I'm going to tweet it with this photo!\"},\n",
    "]"
   ]
  },
  {
   "cell_type": "code",
   "execution_count": 97,
   "metadata": {
    "scrolled": true
   },
   "outputs": [
    {
     "name": "stdout",
     "output_type": "stream",
     "text": [
      "Pablo Motos\n",
      "1\n",
      "Xavier Sarda\n",
      "1\n",
      "Ana Rosa\n",
      "1\n",
      "Joaquín Prat\n",
      "1\n",
      "Mercedes Mila\n",
      "1\n",
      "María Teresa Campos\n",
      "1\n",
      "Buenafuente\n",
      "1\n",
      "Risto Mejide\n",
      "1\n",
      "Jesús Vázquez\n",
      "1\n",
      "Paula Vázquez\n",
      "1\n"
     ]
    }
   ],
   "source": [
    "for i in presentadores:\n",
    "    var=i[\"name\"]\n",
    "    query = {\"name\":{\"$eq\":f\"{var}\"}}\n",
    "    cur = antonio_api.users.find(query)\n",
    "    data = list(cur)\n",
    "    if len(data)==0:\n",
    "        print(var)\n",
    "        antonio_api.users.insert_one(i)\n",
    "    else:\n",
    "        print(var)\n",
    "        print(len(data))\n"
   ]
  },
  {
   "cell_type": "code",
   "execution_count": 83,
   "metadata": {
    "scrolled": true
   },
   "outputs": [
    {
     "name": "stdout",
     "output_type": "stream",
     "text": [
      "<Response [200]>\n"
     ]
    },
    {
     "data": {
      "text/plain": [
       "'yeeeehaaa we have create \"Antonio\"'"
      ]
     },
     "execution_count": 83,
     "metadata": {},
     "output_type": "execute_result"
    }
   ],
   "source": [
    "db_names = requests.get(f'http://localhost:3000/user/create/\"Antonio\"')\n",
    "print(db_names)\n",
    "db_names.text"
   ]
  },
  {
   "cell_type": "code",
   "execution_count": 50,
   "metadata": {
    "scrolled": true
   },
   "outputs": [
    {
     "data": {
      "text/plain": [
       "<Response [200]>"
      ]
     },
     "execution_count": 50,
     "metadata": {},
     "output_type": "execute_result"
    }
   ],
   "source": [
    "import requests\n",
    "url = \"http://localhost:3000/hello\"\n",
    "requests.get(url)"
   ]
  },
  {
   "cell_type": "code",
   "execution_count": 105,
   "metadata": {},
   "outputs": [],
   "source": [
    "import nltk # be sure to have stopwords installed for this using nltk.download_shell()\n",
    "import pandas as pd \n",
    "import string\n",
    "from nltk.sentiment.vader import SentimentIntensityAnalyzer"
   ]
  },
  {
   "cell_type": "code",
   "execution_count": null,
   "metadata": {},
   "outputs": [],
   "source": [
    "    for x in presentadores[1][\"mensaje\"]\n",
    "    messages = [line.rstrip() for line in ]\n",
    "    sid = SentimentIntensityAnalyzer()\n",
    "    summary = {\"positive\":0,\"neutral\":0,\"negative\":0}\n",
    "        for x in messages: \n",
    "            ss = sid.polarity_scores(x)\n",
    "                if ss[\"compound\"] == 0.0: \n",
    "                    summary[\"neutral\"] +=1\n",
    "                elif ss[\"compound\"] > 0.0:\n",
    "                    summary[\"positive\"] +=1\n",
    "                else:\n",
    "                    summary[\"negative\"] +=1\n",
    "            print(result)"
   ]
  },
  {
   "cell_type": "code",
   "execution_count": 103,
   "metadata": {},
   "outputs": [
    {
     "data": {
      "text/plain": [
       "'Hi guys, on Sunday October 4, I will premiere a program on Discovery Max. Are you coming?'"
      ]
     },
     "execution_count": 103,
     "metadata": {},
     "output_type": "execute_result"
    }
   ],
   "source": [
    "presentadores[1][\"mensaje\"]"
   ]
  },
  {
   "cell_type": "code",
   "execution_count": 112,
   "metadata": {},
   "outputs": [],
   "source": [
    "import nltk\n",
    "from nltk.sentiment.vader import SentimentIntensityAnalyzer"
   ]
  },
  {
   "cell_type": "code",
   "execution_count": 114,
   "metadata": {},
   "outputs": [
    {
     "ename": "NameError",
     "evalue": "name 'English' is not defined",
     "output_type": "error",
     "traceback": [
      "\u001b[0;31m---------------------------------------------------------------------------\u001b[0m",
      "\u001b[0;31mNameError\u001b[0m                                 Traceback (most recent call last)",
      "\u001b[0;32m<ipython-input-114-66602b1b10a7>\u001b[0m in \u001b[0;36m<module>\u001b[0;34m\u001b[0m\n\u001b[0;32m----> 1\u001b[0;31m \u001b[0mEnglish\u001b[0m\u001b[0;34m/\u001b[0m\u001b[0mspanish\u001b[0m\u001b[0;34m\u001b[0m\u001b[0;34m\u001b[0m\u001b[0m\n\u001b[0m\u001b[1;32m      2\u001b[0m \u001b[0mcompound\u001b[0m \u001b[0;34m[\u001b[0m\u001b[0;34m-\u001b[0m\u001b[0;36m1\u001b[0m\u001b[0;34m,\u001b[0m\u001b[0;36m1\u001b[0m\u001b[0;34m]\u001b[0m\u001b[0;34m\u001b[0m\u001b[0;34m\u001b[0m\u001b[0m\n",
      "\u001b[0;31mNameError\u001b[0m: name 'English' is not defined"
     ]
    }
   ],
   "source": [
    "English/spanish\n",
    "compound [-1,1]"
   ]
  },
  {
   "cell_type": "code",
   "execution_count": null,
   "metadata": {},
   "outputs": [],
   "source": []
  }
 ],
 "metadata": {
  "kernelspec": {
   "display_name": "Python 3",
   "language": "python",
   "name": "python3"
  },
  "language_info": {
   "codemirror_mode": {
    "name": "ipython",
    "version": 3
   },
   "file_extension": ".py",
   "mimetype": "text/x-python",
   "name": "python",
   "nbconvert_exporter": "python",
   "pygments_lexer": "ipython3",
   "version": "3.8.2"
  }
 },
 "nbformat": 4,
 "nbformat_minor": 4
}
